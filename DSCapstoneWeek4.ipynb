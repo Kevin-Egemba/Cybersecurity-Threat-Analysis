{
 "cells": [
  {
   "cell_type": "code",
   "execution_count": 1,
   "id": "7910dbee",
   "metadata": {},
   "outputs": [],
   "source": [
    "# This notebook demonstrates a robust logistic regression pipeline on three cybersecurity datasets.\n",
    "# I use standardized features, L1 and L2 logistic regression, and classification performance metrics.\n",
    "\n",
    "# First, I import required libraries.\n",
    "import pandas as pd\n",
    "import numpy as np\n",
    "import matplotlib.pyplot as plt\n",
    "import seaborn as sns\n",
    "\n",
    "from sklearn.linear_model import LogisticRegression\n",
    "from sklearn.model_selection import train_test_split\n",
    "from sklearn.preprocessing import StandardScaler\n",
    "from sklearn.metrics import classification_report, confusion_matrix\n",
    "from sklearn.exceptions import NotFittedError\n",
    "\n",
    "# Dataset paths\n",
    "unsw_train_path = r\"C:\\Users\\kegem\\OneDrive\\Datascience Masters\\DS Summer 2025 SEMESTER 3\\DX799S O1 Data Science Capstone (Summer 1 2025)\\Network Security DataSet\\CSV Files\\Training and Testing Sets\\UNSW_NB15_training-set.csv\"\n",
    "cyber_path = r\"C:\\Users\\kegem\\OneDrive\\Datascience Masters\\DS Summer 2025 SEMESTER 3\\DX799S O1 Data Science Capstone (Summer 1 2025)\\Cybersecurity Attacks DataSets\\cybersecurity_attacks.csv\"\n",
    "beth_train_path = r\"C:\\Users\\kegem\\OneDrive\\Datascience Masters\\DS Summer 2025 SEMESTER 3\\DX799S O1 Data Science Capstone (Summer 1 2025)\\Beth DataSet\\labelled_training_data.csv\"\n"
   ]
  },
  {
   "cell_type": "code",
   "execution_count": 2,
   "id": "62d8de8d",
   "metadata": {},
   "outputs": [],
   "source": [
    "# I define a function that takes a DataFrame, a binary target column, and a dataset name.\n",
    "# It performs train-test split, scaling, L1 and L2 logistic regression, and evaluation metrics.\n",
    "def run_logistic_pipeline(df, target_column, dataset_name):\n",
    "    print(f\"\\n--- Running Logistic Regression on {dataset_name} ---\")\n",
    "\n",
    "    # Drop rows with missing target\n",
    "    df = df.dropna(subset=[target_column])\n",
    "\n",
    "    # Filter out rows where the target has only one class\n",
    "    if df[target_column].nunique() != 2:\n",
    "        print(f\"Skipping {dataset_name}: Target '{target_column}' must have exactly 2 classes.\")\n",
    "        return\n",
    "\n",
    "    # Separate features and target\n",
    "    y = df[target_column].astype(int)\n",
    "    X = df.drop(columns=[target_column], errors='ignore')\n",
    "\n",
    "    # One-hot encode categorical features\n",
    "    X = pd.get_dummies(X, drop_first=True)\n",
    "\n",
    "    # Remove rows with NaN\n",
    "    X.dropna(inplace=True)\n",
    "    y = y.loc[X.index]  # Align y to filtered X\n",
    "\n",
    "    # Standardize features\n",
    "    scaler = StandardScaler()\n",
    "    X_scaled = scaler.fit_transform(X)\n",
    "\n",
    "    # Train-test split\n",
    "    X_train, X_test, y_train, y_test = train_test_split(X_scaled, y, test_size=0.2, random_state=42)\n",
    "\n",
    "    # Fit L1 Logistic Regression (Lasso)\n",
    "    l1_model = LogisticRegression(penalty='l1', solver='saga', max_iter=10000)\n",
    "    l1_model.fit(X_train, y_train)\n",
    "\n",
    "    print(\"\\nL1 Logistic Regression Results:\")\n",
    "    print(\"Training Accuracy:\", l1_model.score(X_train, y_train))\n",
    "    print(\"Testing Accuracy:\", l1_model.score(X_test, y_test))\n",
    "    print(\"Classification Report:\")\n",
    "    print(classification_report(y_test, l1_model.predict(X_test)))\n",
    "\n",
    "    # Fit L2 Logistic Regression (Ridge)\n",
    "    l2_model = LogisticRegression(penalty='l2', solver='saga', max_iter=10000)\n",
    "    l2_model.fit(X_train, y_train)\n",
    "\n",
    "    print(\"\\nL2 Logistic Regression Results:\")\n",
    "    print(\"Training Accuracy:\", l2_model.score(X_train, y_train))\n",
    "    print(\"Testing Accuracy:\", l2_model.score(X_test, y_test))\n",
    "    print(\"Classification Report:\")\n",
    "    print(classification_report(y_test, l2_model.predict(X_test)))\n",
    "\n",
    "    # Confusion Matrix Plot\n",
    "    cm = confusion_matrix(y_test, l2_model.predict(X_test))\n",
    "    plt.figure(figsize=(6, 4))\n",
    "    sns.heatmap(cm, annot=True, fmt='d', cmap='Blues')\n",
    "    plt.title(f\"Confusion Matrix: {dataset_name}\")\n",
    "    plt.xlabel(\"Predicted Label\")\n",
    "    plt.ylabel(\"True Label\")\n",
    "    plt.show()\n"
   ]
  },
  {
   "cell_type": "code",
   "execution_count": 3,
   "id": "ff64a06e",
   "metadata": {},
   "outputs": [
    {
     "name": "stdout",
     "output_type": "stream",
     "text": [
      "\n",
      "--- Running Logistic Regression on BETH Dataset ---\n",
      "Skipping BETH Dataset: Target 'evil' must have exactly 2 classes.\n"
     ]
    }
   ],
   "source": [
    "# --- BETH Dataset ---\n",
    "beth_df = pd.read_csv(beth_train_path)\n",
    "cols_to_drop = ['args', 'stackAddresses', 'hostName', 'processName', 'eventName', 'timestamp']\n",
    "beth_df.drop(columns=cols_to_drop, inplace=True, errors='ignore')\n",
    "run_logistic_pipeline(beth_df, 'evil', 'BETH Dataset')\n"
   ]
  },
  {
   "cell_type": "code",
   "execution_count": 4,
   "id": "62521e1a",
   "metadata": {},
   "outputs": [
    {
     "name": "stdout",
     "output_type": "stream",
     "text": [
      "\n",
      "--- Running Logistic Regression on Cybersecurity Attacks Dataset ---\n",
      "Skipping Cybersecurity Attacks Dataset: Target 'Anomaly Scores' must have exactly 2 classes.\n"
     ]
    }
   ],
   "source": [
    "# --- Cybersecurity Attacks Dataset ---\n",
    "cyber_df = pd.read_csv(cyber_path)\n",
    "cyber_df.drop(columns=['Timestamp', 'Source IP Address', 'Destination IP Address', 'Payload Data',\n",
    "                       'User Information', 'Device Information', 'Geo-location Data', 'Proxy Information',\n",
    "                       'Firewall Logs', 'IDS/IPS Alerts', 'Log Source'], errors='ignore', inplace=True)\n",
    "run_logistic_pipeline(cyber_df, 'Anomaly Scores', 'Cybersecurity Attacks Dataset')\n"
   ]
  },
  {
   "cell_type": "code",
   "execution_count": 5,
   "id": "14068a2a",
   "metadata": {},
   "outputs": [
    {
     "name": "stdout",
     "output_type": "stream",
     "text": [
      "\n",
      "--- Running Logistic Regression on UNSW-NB15 Dataset ---\n",
      "\n",
      "L1 Logistic Regression Results:\n",
      "Training Accuracy: 0.9275692939431961\n",
      "Testing Accuracy: 0.926088568251162\n",
      "Classification Report:\n",
      "              precision    recall  f1-score   support\n",
      "\n",
      "           0       0.97      0.79      0.87     11169\n",
      "           1       0.91      0.99      0.95     23900\n",
      "\n",
      "    accuracy                           0.93     35069\n",
      "   macro avg       0.94      0.89      0.91     35069\n",
      "weighted avg       0.93      0.93      0.92     35069\n",
      "\n",
      "\n",
      "L2 Logistic Regression Results:\n",
      "Training Accuracy: 0.9275051328846812\n",
      "Testing Accuracy: 0.9258889617610996\n",
      "Classification Report:\n",
      "              precision    recall  f1-score   support\n",
      "\n",
      "           0       0.97      0.79      0.87     11169\n",
      "           1       0.91      0.99      0.95     23900\n",
      "\n",
      "    accuracy                           0.93     35069\n",
      "   macro avg       0.94      0.89      0.91     35069\n",
      "weighted avg       0.93      0.93      0.92     35069\n",
      "\n"
     ]
    },
    {
     "data": {
      "image/png": "[encoded data removed]",
      "text/plain": [
       "<Figure size 600x400 with 2 Axes>"
      ]
     },
     "metadata": {},
     "output_type": "display_data"
    }
   ],
   "source": [
    "# --- UNSW-NB15 Dataset ---\n",
    "unsw_df = pd.read_csv(unsw_train_path)\n",
    "unsw_df.drop(columns=['id', 'proto', 'service', 'state', 'attack_cat'], errors='ignore', inplace=True)\n",
    "run_logistic_pipeline(unsw_df, 'label', 'UNSW-NB15 Dataset')\n"
   ]
  }
 ],
 "metadata": {
  "kernelspec": {
   "display_name": "Python 3",
   "language": "python",
   "name": "python3"
  },
  "language_info": {
   "codemirror_mode": {
    "name": "ipython",
    "version": 3
   },
   "file_extension": ".py",
   "mimetype": "text/x-python",
   "name": "python",
   "nbconvert_exporter": "python",
   "pygments_lexer": "ipython3",
   "version": "3.11.9"
  }
 },
 "nbformat": 4,
 "nbformat_minor": 5
}
