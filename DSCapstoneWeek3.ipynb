{
 "cells": [
  {
   "cell_type": "markdown",
   "id": "9db9776e",
   "metadata": {},
   "source": [
    "#  Week 3 Capstone: Regularization & Feature Selection on Cybersecurity Datasets"
   ]
  },
  {
   "cell_type": "code",
   "execution_count": 1,
   "id": "78e6be9a",
   "metadata": {},
   "outputs": [],
   "source": [
    "import pandas as pd\n",
    "import numpy as np\n",
    "from sklearn.linear_model import RidgeCV, LassoCV\n",
    "from sklearn.pipeline import make_pipeline\n",
    "from sklearn.preprocessing import StandardScaler\n",
    "import statsmodels.api as sm\n"
   ]
  },
  {
   "cell_type": "markdown",
   "id": "15d94951",
   "metadata": {},
   "source": [
    "## BETH Dataset Analysis"
   ]
  },
  {
   "cell_type": "code",
   "execution_count": 12,
   "id": "dd1fc10c",
   "metadata": {},
   "outputs": [
    {
     "name": "stdout",
     "output_type": "stream",
     "text": [
      "R² Ridge: 0.4304687060032537\n",
      "R² Lasso: 0.4301998332669419\n",
      "\n",
      "Top 10 Influential Features by Lasso:\n",
      "           Feature       Ridge       Lasso\n",
      "5          argsNum  235.987814  234.292689\n",
      "4   mountNamespace  -65.926731  -62.404625\n",
      "6      returnValue  -28.467104  -26.094332\n",
      "2  parentProcessId   -9.374198   -5.978298\n",
      "0        processId   -6.803372   -3.908188\n",
      "7              sus   -8.996285   -2.270552\n",
      "1         threadId    1.566100   -0.080795\n",
      "3           userId    5.092193   -0.000000\n",
      "\n",
      "Top 10 Influential Features by Ridge:\n",
      "           Feature       Ridge       Lasso\n",
      "5          argsNum  235.987814  234.292689\n",
      "4   mountNamespace  -65.926731  -62.404625\n",
      "6      returnValue  -28.467104  -26.094332\n",
      "2  parentProcessId   -9.374198   -5.978298\n",
      "7              sus   -8.996285   -2.270552\n",
      "0        processId   -6.803372   -3.908188\n",
      "3           userId    5.092193   -0.000000\n",
      "1         threadId    1.566100   -0.080795\n"
     ]
    }
   ],
   "source": [
    "\n",
    "import pandas as pd\n",
    "import numpy as np\n",
    "from sklearn.linear_model import RidgeCV, LassoCV\n",
    "from sklearn.preprocessing import StandardScaler\n",
    "from sklearn.metrics import r2_score\n",
    "\n",
    "# Load the BETH dataset\n",
    "beth_train_set = r\"C:\\Users\\kegem\\OneDrive\\Datascience Masters\\DS Summer 2025 SEMESTER 3\\DX799S O1 Data Science Capstone (Summer 1 2025)\\Beth DataSet\\labelled_training_data.csv\"\n",
    "beth = pd.read_csv(beth_train_set)\n",
    "\n",
    "# Drop problematic or high-cardinality columns\n",
    "beth.drop(columns=['args', 'stackAddresses', 'hostName', 'processName', 'eventName', 'timestamp'], inplace=True, errors='ignore')\n",
    "\n",
    "# Drop missing target labels\n",
    "beth.dropna(subset=['eventId'], inplace=True)\n",
    "beth.dropna(inplace=True)\n",
    "\n",
    "# Separate target and features\n",
    "y = pd.to_numeric(beth['eventId'], errors='coerce').astype(int)\n",
    "X_raw = beth.drop(columns=['evil', 'eventId'], errors='ignore')\n",
    "\n",
    "# Identify categorical columns with low cardinality for safe one-hot encoding\n",
    "low_card_cols = [col for col in X_raw.select_dtypes(include='object').columns if X_raw[col].nunique() < 20]\n",
    "X_encoded = pd.get_dummies(X_raw, columns=low_card_cols, drop_first=True)\n",
    "\n",
    "# Drop any remaining object columns (likely high-cardinality)\n",
    "X_encoded = X_encoded.select_dtypes(exclude='object')\n",
    "\n",
    "# Standardize features\n",
    "scaler = StandardScaler()\n",
    "X_scaled = scaler.fit_transform(X_encoded)\n",
    "\n",
    "# Fit Ridge and Lasso regression\n",
    "ridge = RidgeCV(alphas=np.logspace(-3, 3, 100), cv=5).fit(X_scaled, y)\n",
    "lasso = LassoCV(alphas=np.logspace(-3, 3, 100), cv=5, max_iter=10000).fit(X_scaled, y)\n",
    "\n",
    "# Create a DataFrame for coefficients\n",
    "coefs = pd.DataFrame({\n",
    "    'Feature': X_encoded.columns,\n",
    "    'Ridge': ridge.coef_,\n",
    "    'Lasso': lasso.coef_\n",
    "})\n",
    "\n",
    "# Print performance\n",
    "print(\"R² Ridge:\", ridge.score(X_scaled, y))\n",
    "print(\"R² Lasso:\", lasso.score(X_scaled, y))\n",
    "\n",
    "# Display top 10 most influential features\n",
    "top_lasso0 = coefs.reindex(coefs['Lasso'].abs().sort_values(ascending=False).index)\n",
    "top_ridge0 = coefs.reindex(coefs['Ridge'].abs().sort_values(ascending=False).index)\n",
    "\n",
    "print(\"\\nTop 10 Influential Features by Lasso:\")\n",
    "print(top_lasso0.head(10))\n",
    "\n",
    "print(\"\\nTop 10 Influential Features by Ridge:\")\n",
    "print(top_ridge0.head(10))\n"
   ]
  },
  {
   "cell_type": "code",
   "execution_count": 3,
   "id": "9a3fe9c0",
   "metadata": {},
   "outputs": [
    {
     "name": "stdout",
     "output_type": "stream",
     "text": [
      "Forward Selection Order: [np.int64(5), np.int64(4), np.int64(6), np.int64(2), np.int64(1), np.int64(7), np.int64(3), np.int64(0)]\n",
      "R² Values: ['0.256', '0.272', '0.275', '0.276', '0.276', '0.276', '0.276', '0.276']\n"
     ]
    }
   ],
   "source": [
    "# Forward Selection\n",
    "numcols = X.shape[1]\n",
    "cols_used = []\n",
    "rsq_obtained = []\n",
    "cols_unused = np.arange(numcols)\n",
    "\n",
    "for _ in range(numcols):\n",
    "    cur_col = None\n",
    "    cur_rsq = -np.inf\n",
    "    for col in cols_unused:\n",
    "        test_cols = list(set(cols_used) | {col})\n",
    "        rsq = sm.OLS(y, X[:, test_cols]).fit().rsquared\n",
    "        if rsq > cur_rsq:\n",
    "            cur_col = col\n",
    "            cur_rsq = rsq\n",
    "    cols_unused = list(set(cols_unused) - {cur_col})\n",
    "    cols_used.append(cur_col)\n",
    "    rsq_obtained.append(cur_rsq)\n",
    "\n",
    "print(\"Forward Selection Order:\", cols_used[:10])\n",
    "print(\"R² Values:\", [f\"{x:.3f}\" for x in rsq_obtained[:10]])\n"
   ]
  },
  {
   "cell_type": "code",
   "execution_count": 4,
   "id": "27a89e83",
   "metadata": {},
   "outputs": [
    {
     "name": "stdout",
     "output_type": "stream",
     "text": [
      "Backward Selection Remaining: [np.int64(5)]\n",
      "R² Values: ['0.276', '0.276', '0.276', '0.276', '0.275', '0.272', '0.256']\n"
     ]
    }
   ],
   "source": [
    "# Backward Selection\n",
    "cols_used = list(np.arange(numcols))\n",
    "cols_removed = []\n",
    "rsq_obtained = []\n",
    "\n",
    "for _ in range(numcols - 1):\n",
    "    cur_col = None\n",
    "    cur_rsq = -np.inf\n",
    "    for col in cols_used:\n",
    "        test_cols = list(set(cols_used) - {col})\n",
    "        rsq = sm.OLS(y, X[:, test_cols]).fit().rsquared\n",
    "        if rsq > cur_rsq:\n",
    "            cur_col = col\n",
    "            cur_rsq = rsq\n",
    "    cols_used = list(set(cols_used) - {cur_col})\n",
    "    cols_removed.append(cur_col)\n",
    "    rsq_obtained.append(cur_rsq)\n",
    "\n",
    "print(\"Backward Selection Remaining:\", cols_used[:10])\n",
    "print(\"R² Values:\", [f\"{x:.3f}\" for x in rsq_obtained[:10]])\n"
   ]
  },
  {
   "cell_type": "markdown",
   "id": "07e09a32",
   "metadata": {},
   "source": [
    "## CYBER Dataset Analysis"
   ]
  },
  {
   "cell_type": "code",
   "execution_count": null,
   "id": "3eae30c4",
   "metadata": {},
   "outputs": [
    {
     "name": "stdout",
     "output_type": "stream",
     "text": [
      "R² Ridge: 0.00036333976298086323\n",
      "R² Lasso: 9.259502058089897e-05\n",
      "\n",
      "Top 10 Influential Features by Lasso:\n",
      "                 Feature     Ridge    Lasso\n",
      "6       Traffic Type_FTP -0.348084 -0.13018\n",
      "0            Source Port  0.134826  0.00000\n",
      "1       Destination Port -0.099901 -0.00000\n",
      "3           Protocol_TCP  0.049704  0.00000\n",
      "2          Packet Length -0.100596 -0.00000\n",
      "4           Protocol_UDP -0.055639 -0.00000\n",
      "5       Packet Type_Data -0.170402 -0.00000\n",
      "7      Traffic Type_HTTP  0.003221  0.00000\n",
      "8  Attack Type_Intrusion -0.113304 -0.00000\n",
      "9    Attack Type_Malware -0.049484  0.00000\n",
      "\n",
      "Top 10 Influential Features by Ridge:\n",
      "                      Feature     Ridge    Lasso\n",
      "6            Traffic Type_FTP -0.348084 -0.13018\n",
      "14      Severity Level_Medium -0.220281 -0.00000\n",
      "5            Packet Type_Data -0.170402 -0.00000\n",
      "15  Network Segment_Segment B -0.141655 -0.00000\n",
      "0                 Source Port  0.134826  0.00000\n",
      "8       Attack Type_Intrusion -0.113304 -0.00000\n",
      "2               Packet Length -0.100596 -0.00000\n",
      "1            Destination Port -0.099901 -0.00000\n",
      "11       Action Taken_Ignored -0.098214 -0.00000\n",
      "16  Network Segment_Segment C -0.066092  0.00000\n"
     ]
    }
   ],
   "source": [
    "import pandas as pd\n",
    "import numpy as np\n",
    "from sklearn.linear_model import RidgeCV, LassoCV\n",
    "from sklearn.preprocessing import StandardScaler\n",
    "from sklearn.metrics import r2_score\n",
    "\n",
    "# Load the Cybersecurity Attacks dataset from the defined path\n",
    "cyber_path = r\"C:\\Users\\kegem\\OneDrive\\Datascience Masters\\DS Summer 2025 SEMESTER 3\\DX799S O1 Data Science Capstone (Summer 1 2025)\\Cybersecurity Attacks DataSets\\cybersecurity_attacks.csv\"\n",
    "cyber_df = pd.read_csv(cyber_path)\n",
    "\n",
    "# Drop rows with missing anomaly scores (our target variable)\n",
    "cyber_df.dropna(subset=['Anomaly Scores'], inplace=True)\n",
    "\n",
    "# Drop columns known to be high-cardinality or irrelevant to modeling\n",
    "drop_cols = [\n",
    "    'Timestamp', 'Source IP Address', 'Destination IP Address', 'Payload Data',\n",
    "    'User Information', 'Device Information', 'Geo-location Data',\n",
    "    'Proxy Information', 'Firewall Logs', 'IDS/IPS Alerts', 'Log Source'\n",
    "]\n",
    "cyber_df.drop(columns=[col for col in drop_cols if col in cyber_df.columns], inplace=True)\n",
    "\n",
    "# Select only a subset of categorical columns to one-hot encode\n",
    "low_card_cols = [col for col in cyber_df.select_dtypes(include='object').columns if cyber_df[col].nunique() < 20]\n",
    "cyber_df = pd.get_dummies(cyber_df, columns=low_card_cols, drop_first=True)\n",
    "\n",
    "# Drop any remaining rows with missing values\n",
    "cyber_df.dropna(inplace=True)\n",
    "\n",
    "# Define features and target\n",
    "y = pd.to_numeric(cyber_df['Anomaly Scores'], errors='coerce').astype(int)\n",
    "X = cyber_df.drop(columns=['Anomaly Scores'], errors='ignore')\n",
    "\n",
    "# Standardize the features\n",
    "X_scaled = StandardScaler().fit_transform(X)\n",
    "\n",
    "# Fit Ridge and Lasso regression models with cross-validation\n",
    "ridge = RidgeCV(alphas=np.logspace(-3, 3, 100), cv=5).fit(X_scaled, y)\n",
    "lasso = LassoCV(alphas=np.logspace(-3, 3, 100), cv=5).fit(X_scaled, y)\n",
    "\n",
    "# Print R² performance scores\n",
    "print(\"R² Ridge:\", ridge.score(X_scaled, y))\n",
    "print(\"R² Lasso:\", lasso.score(X_scaled, y))\n",
    "\n",
    "# Identify top 10 most influential features from Lasso and Ridge\n",
    "coefs = pd.DataFrame({\n",
    "    'Feature': X.columns,\n",
    "    'Ridge': ridge.coef_,\n",
    "    'Lasso': lasso.coef_\n",
    "})\n",
    "top_lasso = coefs.reindex(coefs['Lasso'].abs().sort_values(ascending=False).index)\n",
    "top_ridge = coefs.reindex(coefs['Ridge'].abs().sort_values(ascending=False).index)\n",
    "\n",
    "print(\"\\nTop 10 Influential Features by Lasso:\")\n",
    "print(top_lasso.head(10))\n",
    "\n",
    "print(\"\\nTop 10 Influential Features by Ridge:\")\n",
    "print(top_ridge.head(10))\n"
   ]
  },
  {
   "cell_type": "code",
   "execution_count": null,
   "id": "55bdf68a",
   "metadata": {},
   "outputs": [],
   "source": [
    "numcols = X.shape[1]\n",
    "cols_used = []\n",
    "rsq_obtained = []\n",
    "cols_unused = np.arange(numcols)\n",
    "\n",
    "for _ in range(min(numcols, 20)):\n",
    "    cur_col = None\n",
    "    cur_rsq = -np.inf\n",
    "    for col in cols_unused:\n",
    "        test_cols = list(set(cols_used) | {col})\n",
    "        rsq = sm.OLS(y, X[:, test_cols]).fit().rsquared\n",
    "        if rsq > cur_rsq:\n",
    "            cur_col = col\n",
    "            cur_rsq = rsq\n",
    "    cols_unused = list(set(cols_unused) - {cur_col})\n",
    "    cols_used.append(cur_col)\n",
    "    rsq_obtained.append(cur_rsq)\n",
    "\n",
    "print(\"Forward Selection Top 10:\", cols_used[:10])\n",
    "print(\"R² Forward:\", [f\"{x:.3f}\" for x in rsq_obtained[:10]])\n"
   ]
  },
  {
   "cell_type": "code",
   "execution_count": null,
   "id": "761a61cf",
   "metadata": {},
   "outputs": [],
   "source": [
    "cols_used = list(np.arange(numcols))\n",
    "cols_removed = []\n",
    "rsq_obtained = []\n",
    "\n",
    "for _ in range(min(numcols - 1, 20)):\n",
    "    cur_col = None\n",
    "    cur_rsq = -np.inf\n",
    "    for col in cols_used:\n",
    "        test_cols = list(set(cols_used) - {col})\n",
    "        rsq = sm.OLS(y, X[:, test_cols]).fit().rsquared\n",
    "        if rsq > cur_rsq:\n",
    "            cur_col = col\n",
    "            cur_rsq = rsq\n",
    "    cols_used = list(set(cols_used) - {cur_col})\n",
    "    cols_removed.append(cur_col)\n",
    "    rsq_obtained.append(cur_rsq)\n",
    "\n",
    "print(\"Backward Selection Remaining 10:\", cols_used[:10])\n",
    "print(\"R² Backward:\", [f\"{x:.3f}\" for x in rsq_obtained[:10]])\n"
   ]
  },
  {
   "cell_type": "markdown",
   "id": "26bbee72",
   "metadata": {},
   "source": [
    "##  UNSW Dataset Analysis"
   ]
  },
  {
   "cell_type": "code",
   "execution_count": 13,
   "id": "c05d1016",
   "metadata": {},
   "outputs": [
    {
     "name": "stdout",
     "output_type": "stream",
     "text": [
      "R² Ridge: 0.682015115929326\n",
      "R² Lasso: 0.6758962489020018\n",
      "\n",
      "Top 10 Influential Features by Lasso:\n",
      "           Feature       Ridge       Lasso\n",
      "5          argsNum  235.987814  234.292689\n",
      "4   mountNamespace  -65.926731  -62.404625\n",
      "6      returnValue  -28.467104  -26.094332\n",
      "2  parentProcessId   -9.374198   -5.978298\n",
      "0        processId   -6.803372   -3.908188\n",
      "7              sus   -8.996285   -2.270552\n",
      "1         threadId    1.566100   -0.080795\n",
      "3           userId    5.092193   -0.000000\n",
      "\n",
      "Top 10 Influential Features by Ridge:\n",
      "           Feature       Ridge       Lasso\n",
      "5          argsNum  235.987814  234.292689\n",
      "4   mountNamespace  -65.926731  -62.404625\n",
      "6      returnValue  -28.467104  -26.094332\n",
      "2  parentProcessId   -9.374198   -5.978298\n",
      "7              sus   -8.996285   -2.270552\n",
      "0        processId   -6.803372   -3.908188\n",
      "3           userId    5.092193   -0.000000\n",
      "1         threadId    1.566100   -0.080795\n"
     ]
    }
   ],
   "source": [
    "unsw_train_path = r\"C:\\Users\\kegem\\OneDrive\\Datascience Masters\\DS Summer 2025 SEMESTER 3\\DX799S O1 Data Science Capstone (Summer 1 2025)\\Network Security DataSet\\CSV Files\\Training and Testing Sets\\UNSW_NB15_training-set.csv\"\n",
    "\n",
    "\n",
    "unsw_df = pd.read_csv(unsw_train_path)\n",
    "unsw_df.dropna(subset=['label'], inplace=True)\n",
    "unsw_df = pd.get_dummies(unsw_df.drop(columns=['id', 'proto', 'service', 'state', 'attack_cat'] if 'unsw'=='unsw' else [], errors='ignore'), drop_first=True)\n",
    "unsw_df.dropna(inplace=True)\n",
    "\n",
    "y = pd.to_numeric(unsw_df['label'], errors='coerce').astype(int)\n",
    "X = StandardScaler().fit_transform(unsw_df.drop(columns=['label'], errors='ignore'))\n",
    "\n",
    "ridge = RidgeCV(alphas=np.logspace(-3, 3, 100), cv=5).fit(X, y)\n",
    "lasso = LassoCV(alphas=np.logspace(-3, 3, 100), cv=5).fit(X, y)\n",
    "\n",
    "print(\"R² Ridge:\", ridge.score(X, y))\n",
    "print(\"R² Lasso:\", lasso.score(X, y))\n",
    "\n",
    "\n",
    "top_lasso1 = coefs.reindex(coefs['Lasso'].abs().sort_values(ascending=False).index)\n",
    "top_ridge1 = coefs.reindex(coefs['Ridge'].abs().sort_values(ascending=False).index)\n",
    "\n",
    "print(\"\\nTop 10 Influential Features by Lasso:\")\n",
    "print(top_lasso1.head(10))\n",
    "\n",
    "print(\"\\nTop 10 Influential Features by Ridge:\")\n",
    "print(top_ridge1.head(10))\n",
    "\n"
   ]
  },
  {
   "cell_type": "code",
   "execution_count": 7,
   "id": "f02df0bd",
   "metadata": {},
   "outputs": [
    {
     "name": "stdout",
     "output_type": "stream",
     "text": [
      "Forward Selection Top 10: [np.int64(6), np.int64(28), np.int64(7), np.int64(16), np.int64(19), np.int64(38), np.int64(21), np.int64(31), np.int64(37), np.int64(24)]\n",
      "R² Forward: ['0.153', '0.161', '0.171', '0.183', '0.193', '0.199', '0.204', '0.207', '0.209', '0.212']\n"
     ]
    }
   ],
   "source": [
    "numcols = X.shape[1]\n",
    "cols_used = []\n",
    "rsq_obtained = []\n",
    "cols_unused = np.arange(numcols)\n",
    "\n",
    "for _ in range(min(numcols, 20)):\n",
    "    cur_col = None\n",
    "    cur_rsq = -np.inf\n",
    "    for col in cols_unused:\n",
    "        test_cols = list(set(cols_used) | {col})\n",
    "        rsq = sm.OLS(y, X[:, test_cols]).fit().rsquared\n",
    "        if rsq > cur_rsq:\n",
    "            cur_col = col\n",
    "            cur_rsq = rsq\n",
    "    cols_unused = list(set(cols_unused) - {cur_col})\n",
    "    cols_used.append(cur_col)\n",
    "    rsq_obtained.append(cur_rsq)\n",
    "\n",
    "print(\"Forward Selection Top 10:\", cols_used[:10])\n",
    "print(\"R² Forward:\", [f\"{x:.3f}\" for x in rsq_obtained[:10]])\n"
   ]
  },
  {
   "cell_type": "code",
   "execution_count": 8,
   "id": "b573ae02",
   "metadata": {},
   "outputs": [
    {
     "name": "stdout",
     "output_type": "stream",
     "text": [
      "Backward Selection Remaining 10: [np.int64(0), np.int64(4), np.int64(5), np.int64(6), np.int64(7), np.int64(9), np.int64(10), np.int64(11), np.int64(16), np.int64(19)]\n",
      "R² Backward: ['0.218', '0.218', '0.218', '0.218', '0.218', '0.218', '0.218', '0.218', '0.218', '0.218']\n"
     ]
    }
   ],
   "source": [
    "cols_used = list(np.arange(numcols))\n",
    "cols_removed = []\n",
    "rsq_obtained = []\n",
    "\n",
    "for _ in range(min(numcols - 1, 20)):\n",
    "    cur_col = None\n",
    "    cur_rsq = -np.inf\n",
    "    for col in cols_used:\n",
    "        test_cols = list(set(cols_used) - {col})\n",
    "        rsq = sm.OLS(y, X[:, test_cols]).fit().rsquared\n",
    "        if rsq > cur_rsq:\n",
    "            cur_col = col\n",
    "            cur_rsq = rsq\n",
    "    cols_used = list(set(cols_used) - {cur_col})\n",
    "    cols_removed.append(cur_col)\n",
    "    rsq_obtained.append(cur_rsq)\n",
    "\n",
    "print(\"Backward Selection Remaining 10:\", cols_used[:10])\n",
    "print(\"R² Backward:\", [f\"{x:.3f}\" for x in rsq_obtained[:10]])\n"
   ]
  }
 ],
 "metadata": {
  "kernelspec": {
   "display_name": "Python 3",
   "language": "python",
   "name": "python3"
  },
  "language_info": {
   "codemirror_mode": {
    "name": "ipython",
    "version": 3
   },
   "file_extension": ".py",
   "mimetype": "text/x-python",
   "name": "python",
   "nbconvert_exporter": "python",
   "pygments_lexer": "ipython3",
   "version": "3.11.9"
  }
 },
 "nbformat": 4,
 "nbformat_minor": 5
}
